{
 "cells": [
  {
   "cell_type": "code",
   "execution_count": 1,
   "metadata": {
    "scrolled": true
   },
   "outputs": [
    {
     "name": "stderr",
     "output_type": "stream",
     "text": [
      "Using TensorFlow backend.\n",
      "C:\\Users\\DELL\\Anaconda3\\lib\\site-packages\\tensorflow\\python\\framework\\dtypes.py:526: FutureWarning: Passing (type, 1) or '1type' as a synonym of type is deprecated; in a future version of numpy, it will be understood as (type, (1,)) / '(1,)type'.\n",
      "  _np_qint8 = np.dtype([(\"qint8\", np.int8, 1)])\n",
      "C:\\Users\\DELL\\Anaconda3\\lib\\site-packages\\tensorflow\\python\\framework\\dtypes.py:527: FutureWarning: Passing (type, 1) or '1type' as a synonym of type is deprecated; in a future version of numpy, it will be understood as (type, (1,)) / '(1,)type'.\n",
      "  _np_quint8 = np.dtype([(\"quint8\", np.uint8, 1)])\n",
      "C:\\Users\\DELL\\Anaconda3\\lib\\site-packages\\tensorflow\\python\\framework\\dtypes.py:528: FutureWarning: Passing (type, 1) or '1type' as a synonym of type is deprecated; in a future version of numpy, it will be understood as (type, (1,)) / '(1,)type'.\n",
      "  _np_qint16 = np.dtype([(\"qint16\", np.int16, 1)])\n",
      "C:\\Users\\DELL\\Anaconda3\\lib\\site-packages\\tensorflow\\python\\framework\\dtypes.py:529: FutureWarning: Passing (type, 1) or '1type' as a synonym of type is deprecated; in a future version of numpy, it will be understood as (type, (1,)) / '(1,)type'.\n",
      "  _np_quint16 = np.dtype([(\"quint16\", np.uint16, 1)])\n",
      "C:\\Users\\DELL\\Anaconda3\\lib\\site-packages\\tensorflow\\python\\framework\\dtypes.py:530: FutureWarning: Passing (type, 1) or '1type' as a synonym of type is deprecated; in a future version of numpy, it will be understood as (type, (1,)) / '(1,)type'.\n",
      "  _np_qint32 = np.dtype([(\"qint32\", np.int32, 1)])\n",
      "C:\\Users\\DELL\\Anaconda3\\lib\\site-packages\\tensorflow\\python\\framework\\dtypes.py:535: FutureWarning: Passing (type, 1) or '1type' as a synonym of type is deprecated; in a future version of numpy, it will be understood as (type, (1,)) / '(1,)type'.\n",
      "  np_resource = np.dtype([(\"resource\", np.ubyte, 1)])\n"
     ]
    }
   ],
   "source": [
    "import pandas as pd\n",
    "import keras \n",
    "import sklearn"
   ]
  },
  {
   "cell_type": "code",
   "execution_count": 2,
   "metadata": {},
   "outputs": [],
   "source": [
    "from tqdm import tqdm\n",
    "import spacy"
   ]
  },
  {
   "cell_type": "code",
   "execution_count": 3,
   "metadata": {},
   "outputs": [],
   "source": [
    "df= pd.read_csv(\"acquisition1.csv\")"
   ]
  },
  {
   "cell_type": "code",
   "execution_count": 20,
   "metadata": {},
   "outputs": [],
   "source": [
    "\n",
    "df= df.drop_duplicates(subset='title',ignore_index=True)\n",
    "df=df.dropna()"
   ]
  },
  {
   "cell_type": "code",
   "execution_count": 21,
   "metadata": {},
   "outputs": [
    {
     "data": {
      "text/html": [
       "<div>\n",
       "<style scoped>\n",
       "    .dataframe tbody tr th:only-of-type {\n",
       "        vertical-align: middle;\n",
       "    }\n",
       "\n",
       "    .dataframe tbody tr th {\n",
       "        vertical-align: top;\n",
       "    }\n",
       "\n",
       "    .dataframe thead th {\n",
       "        text-align: right;\n",
       "    }\n",
       "</style>\n",
       "<table border=\"1\" class=\"dataframe\">\n",
       "  <thead>\n",
       "    <tr style=\"text-align: right;\">\n",
       "      <th></th>\n",
       "      <th>article_id</th>\n",
       "      <th>date</th>\n",
       "      <th>url</th>\n",
       "      <th>source</th>\n",
       "      <th>title</th>\n",
       "      <th>body</th>\n",
       "    </tr>\n",
       "  </thead>\n",
       "  <tbody>\n",
       "    <tr>\n",
       "      <th>0</th>\n",
       "      <td>da0ecb17994c9d301fa938bcc047af56</td>\n",
       "      <td>14/04/20</td>\n",
       "      <td>https://www.environmental-expert.com/news/nede...</td>\n",
       "      <td>environmental-expert.com</td>\n",
       "      <td>Nederman completes acquisition of Environmenta...</td>\n",
       "      <td>Nederman Holding AB will take over as owner of...</td>\n",
       "    </tr>\n",
       "    <tr>\n",
       "      <th>1</th>\n",
       "      <td>228bf074db50b7980c6d372104eab972</td>\n",
       "      <td>14/04/20</td>\n",
       "      <td>https://www.tvnz.co.nz/one-news/new-zealand/pi...</td>\n",
       "      <td>tvnz.co.nz</td>\n",
       "      <td>Pilots help stock supermarket shelves as work ...</td>\n",
       "      <td>Stocking shelves at supermarkets for little mo...</td>\n",
       "    </tr>\n",
       "    <tr>\n",
       "      <th>2</th>\n",
       "      <td>66c352d987d4fab53740ed466906d082</td>\n",
       "      <td>14/04/20</td>\n",
       "      <td>https://www.digitalmusicnews.com/2020/04/13/ti...</td>\n",
       "      <td>digitalmusicnews.com</td>\n",
       "      <td>Ticketmaster Buys Company Founded by Ex-CEO Na...</td>\n",
       "      <td>Ticketmaster has purchased Rival, a ticketing ...</td>\n",
       "    </tr>\n",
       "    <tr>\n",
       "      <th>3</th>\n",
       "      <td>2683542352c6861cd9f25c8b0f829cbb</td>\n",
       "      <td>14/04/20</td>\n",
       "      <td>https://seekingalpha.com/article/4337405-xcel-...</td>\n",
       "      <td>seekingalpha.com</td>\n",
       "      <td>Xcel Brands, Inc. (XELB) CEO Robert D'Loren on...</td>\n",
       "      <td>Andrew Berger - Vice President, SM Berger &amp; Co...</td>\n",
       "    </tr>\n",
       "    <tr>\n",
       "      <th>4</th>\n",
       "      <td>ba30e1e423d0dcd8e62f90c3f2c402c0</td>\n",
       "      <td>14/04/20</td>\n",
       "      <td>https://www.hstoday.us/federal-pages/departmen...</td>\n",
       "      <td>hstoday.us</td>\n",
       "      <td>Department of Defense Contracts for April 13, ...</td>\n",
       "      <td>BFBC LLC, Bozeman, Montana, was awarded a $569...</td>\n",
       "    </tr>\n",
       "  </tbody>\n",
       "</table>\n",
       "</div>"
      ],
      "text/plain": [
       "                         article_id      date  \\\n",
       "0  da0ecb17994c9d301fa938bcc047af56  14/04/20   \n",
       "1  228bf074db50b7980c6d372104eab972  14/04/20   \n",
       "2  66c352d987d4fab53740ed466906d082  14/04/20   \n",
       "3  2683542352c6861cd9f25c8b0f829cbb  14/04/20   \n",
       "4  ba30e1e423d0dcd8e62f90c3f2c402c0  14/04/20   \n",
       "\n",
       "                                                 url  \\\n",
       "0  https://www.environmental-expert.com/news/nede...   \n",
       "1  https://www.tvnz.co.nz/one-news/new-zealand/pi...   \n",
       "2  https://www.digitalmusicnews.com/2020/04/13/ti...   \n",
       "3  https://seekingalpha.com/article/4337405-xcel-...   \n",
       "4  https://www.hstoday.us/federal-pages/departmen...   \n",
       "\n",
       "                     source  \\\n",
       "0  environmental-expert.com   \n",
       "1                tvnz.co.nz   \n",
       "2      digitalmusicnews.com   \n",
       "3          seekingalpha.com   \n",
       "4                hstoday.us   \n",
       "\n",
       "                                               title  \\\n",
       "0  Nederman completes acquisition of Environmenta...   \n",
       "1  Pilots help stock supermarket shelves as work ...   \n",
       "2  Ticketmaster Buys Company Founded by Ex-CEO Na...   \n",
       "3  Xcel Brands, Inc. (XELB) CEO Robert D'Loren on...   \n",
       "4  Department of Defense Contracts for April 13, ...   \n",
       "\n",
       "                                                body  \n",
       "0  Nederman Holding AB will take over as owner of...  \n",
       "1  Stocking shelves at supermarkets for little mo...  \n",
       "2  Ticketmaster has purchased Rival, a ticketing ...  \n",
       "3  Andrew Berger - Vice President, SM Berger & Co...  \n",
       "4  BFBC LLC, Bozeman, Montana, was awarded a $569...  "
      ]
     },
     "execution_count": 21,
     "metadata": {},
     "output_type": "execute_result"
    }
   ],
   "source": [
    "df.head()"
   ]
  },
  {
   "cell_type": "code",
   "execution_count": 22,
   "metadata": {},
   "outputs": [
    {
     "name": "stderr",
     "output_type": "stream",
     "text": [
      "100%|████████████████████████████████████████████████████████████████████████████████| 898/898 [04:55<00:00,  3.04it/s]\n"
     ]
    }
   ],
   "source": [
    "nlp=spacy.load('en_core_web_sm')\n",
    "sentence_vectors = {}\n",
    "docs=[]\n",
    "for body in tqdm(df.body):\n",
    "    document=nlp(str(body))\n",
    "    docs.append(document)\n",
    "    sentence_vectors.update({body:document.vector})\n",
    "sentences=list(sentence_vectors.keys())\n",
    "vectors=list(sentence_vectors.values())"
   ]
  },
  {
   "cell_type": "code",
   "execution_count": 23,
   "metadata": {},
   "outputs": [
    {
     "name": "stderr",
     "output_type": "stream",
     "text": [
      "100%|████████████████████████████████████████████████████████████████████████████████| 500/500 [00:20<00:00, 23.82it/s]\n"
     ]
    }
   ],
   "source": [
    "from sklearn.cluster import DBSCAN\n",
    "import numpy as np\n",
    "x= np.array(vectors)\n",
    "n={} \n",
    "for i in tqdm(np.arange(0.001,1,0.002)):\n",
    "    dbscan= DBSCAN(eps=i,min_samples=2,metric='cosine').fit(x)\n",
    "    n.update({i:len(pd.Series(dbscan.labels_).value_counts())})\n",
    "dbscan = DBSCAN(eps=0.08,min_samples=2,metric='cosine').fit(x)"
   ]
  },
  {
   "cell_type": "code",
   "execution_count": 27,
   "metadata": {},
   "outputs": [
    {
     "name": "stdout",
     "output_type": "stream",
     "text": [
      "0      0\n",
      "1      0\n",
      "2      0\n",
      "3      0\n",
      "4      0\n",
      "      ..\n",
      "884    0\n",
      "885    0\n",
      "886    0\n",
      "887    0\n",
      "888    0\n",
      "Length: 889, dtype: int64\n"
     ]
    }
   ],
   "source": [
    "print(pd.Series(dbscan.labels_))"
   ]
  },
  {
   "cell_type": "code",
   "execution_count": 28,
   "metadata": {},
   "outputs": [
    {
     "data": {
      "text/plain": [
       "898"
      ]
     },
     "execution_count": 28,
     "metadata": {},
     "output_type": "execute_result"
    }
   ],
   "source": [
    "len(df)"
   ]
  },
  {
   "cell_type": "code",
   "execution_count": null,
   "metadata": {},
   "outputs": [],
   "source": [
    "example_result=df[df.labels==2]"
   ]
  },
  {
   "cell_type": "code",
   "execution_count": null,
   "metadata": {},
   "outputs": [],
   "source": [
    "example_result"
   ]
  },
  {
   "cell_type": "code",
   "execution_count": null,
   "metadata": {},
   "outputs": [],
   "source": [
    "# knn\n",
    "X=df[['vectors']].values\n",
    "y=df[['labels']].values"
   ]
  }
 ],
 "metadata": {
  "kernelspec": {
   "display_name": "Python 3",
   "language": "python",
   "name": "python3"
  },
  "language_info": {
   "codemirror_mode": {
    "name": "ipython",
    "version": 3
   },
   "file_extension": ".py",
   "mimetype": "text/x-python",
   "name": "python",
   "nbconvert_exporter": "python",
   "pygments_lexer": "ipython3",
   "version": "3.7.3"
  }
 },
 "nbformat": 4,
 "nbformat_minor": 4
}
